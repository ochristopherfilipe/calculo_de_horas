{
 "cells": [
  {
   "cell_type": "markdown",
   "metadata": {},
   "source": [
    "# Datas de início e término da segunda parte da bolsa de estudos Santander Coders/ ADA.Tech\n",
    "\n",
    "**Início:** 03/11/2023 às 00:01\n",
    "\n",
    "\n",
    "**Término:** 15/11/2023 às 23:59"
   ]
  },
  {
   "cell_type": "code",
   "execution_count": 1,
   "metadata": {},
   "outputs": [
    {
     "name": "stdout",
     "output_type": "stream",
     "text": [
      "Você precisa estudar em média 1 hora e 20 minutos por dia para conseguir a tempo.\n"
     ]
    }
   ],
   "source": [
    "total_dias = 13\n",
    "\n",
    "modulos = {\n",
    "    'git': 69,\n",
    "    'calculo': 226,\n",
    "    'algoritmos': 92,\n",
    "    'python': 162,\n",
    "    'estatistica': 336,\n",
    "    'banco_de_dados': 65,\n",
    "    'sql_powerbi': 98\n",
    "}\n",
    "\n",
    "# Convertendo os valores do dicionário em uma lista e somando os valores\n",
    "duracoes = list(modulos.values())\n",
    "\n",
    "# Somando os minutos\n",
    "soma_duracao = sum(duracoes)\n",
    "\n",
    "# Convertendo para horas\n",
    "horas_totais = soma_duracao/60\n",
    "\n",
    "# Dividindo o total de horas por dias para estudo\n",
    "horas_por_dia = horas_totais/total_dias\n",
    "\n",
    "# Separando horas e minutos\n",
    "horas = int(horas_por_dia)\n",
    "minutos = int((horas_por_dia - horas) * 60)\n",
    "\n",
    "print(f\"Você precisa estudar em média {horas} hora e {minutos} minutos por dia para conseguir a tempo.\")\n"
   ]
  }
 ],
 "metadata": {
  "kernelspec": {
   "display_name": "base",
   "language": "python",
   "name": "python3"
  },
  "language_info": {
   "codemirror_mode": {
    "name": "ipython",
    "version": 3
   },
   "file_extension": ".py",
   "mimetype": "text/x-python",
   "name": "python",
   "nbconvert_exporter": "python",
   "pygments_lexer": "ipython3",
   "version": "3.11.4"
  }
 },
 "nbformat": 4,
 "nbformat_minor": 2
}
